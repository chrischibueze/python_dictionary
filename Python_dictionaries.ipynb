{
 "cells": [
  {
   "cell_type": "code",
   "execution_count": 1,
   "id": "c6163f1b",
   "metadata": {},
   "outputs": [],
   "source": [
    "#dictionary"
   ]
  },
  {
   "cell_type": "code",
   "execution_count": 16,
   "id": "59609587",
   "metadata": {},
   "outputs": [],
   "source": [
    "d = {'key1':'value','key2':123}"
   ]
  },
  {
   "cell_type": "code",
   "execution_count": 17,
   "id": "3f0502d3",
   "metadata": {},
   "outputs": [
    {
     "data": {
      "text/plain": [
       "'value'"
      ]
     },
     "execution_count": 17,
     "metadata": {},
     "output_type": "execute_result"
    }
   ],
   "source": [
    "d['key1']"
   ]
  },
  {
   "cell_type": "code",
   "execution_count": 18,
   "id": "b75c8c63",
   "metadata": {},
   "outputs": [
    {
     "data": {
      "text/plain": [
       "123"
      ]
     },
     "execution_count": 18,
     "metadata": {},
     "output_type": "execute_result"
    }
   ],
   "source": [
    "d['key2']"
   ]
  },
  {
   "cell_type": "code",
   "execution_count": null,
   "id": "eaf68433",
   "metadata": {},
   "outputs": [],
   "source": [
    "#list nested in a dictionary"
   ]
  },
  {
   "cell_type": "code",
   "execution_count": 126,
   "id": "33a95260",
   "metadata": {},
   "outputs": [],
   "source": [
    "d = {'k1':[1,2,3]}"
   ]
  },
  {
   "cell_type": "code",
   "execution_count": 127,
   "id": "50bf0ef4",
   "metadata": {},
   "outputs": [],
   "source": [
    "my_list = d['k1']"
   ]
  },
  {
   "cell_type": "code",
   "execution_count": 128,
   "id": "ca83012b",
   "metadata": {},
   "outputs": [
    {
     "data": {
      "text/plain": [
       "3"
      ]
     },
     "execution_count": 128,
     "metadata": {},
     "output_type": "execute_result"
    }
   ],
   "source": [
    "my_list[2]"
   ]
  },
  {
   "cell_type": "code",
   "execution_count": null,
   "id": "bdf8715b",
   "metadata": {},
   "outputs": [],
   "source": [
    "#dictionary nested in a dictionary"
   ]
  },
  {
   "cell_type": "code",
   "execution_count": 39,
   "id": "6fa96f0a",
   "metadata": {},
   "outputs": [],
   "source": [
    "d = {'k1':{'k3':[1,2,3]},'k2':45}"
   ]
  },
  {
   "cell_type": "code",
   "execution_count": 40,
   "id": "e83461f8",
   "metadata": {},
   "outputs": [
    {
     "data": {
      "text/plain": [
       "[1, 2, 3]"
      ]
     },
     "execution_count": 40,
     "metadata": {},
     "output_type": "execute_result"
    }
   ],
   "source": [
    "d['k1']['k3']"
   ]
  },
  {
   "cell_type": "code",
   "execution_count": 41,
   "id": "cb10a6be",
   "metadata": {},
   "outputs": [
    {
     "data": {
      "text/plain": [
       "1"
      ]
     },
     "execution_count": 41,
     "metadata": {},
     "output_type": "execute_result"
    }
   ],
   "source": [
    "d['k1']['k3'][0]"
   ]
  },
  {
   "cell_type": "code",
   "execution_count": 42,
   "id": "52995d55",
   "metadata": {},
   "outputs": [],
   "source": [
    "#booleans"
   ]
  },
  {
   "cell_type": "code",
   "execution_count": 43,
   "id": "a2a5a09e",
   "metadata": {},
   "outputs": [
    {
     "data": {
      "text/plain": [
       "True"
      ]
     },
     "execution_count": 43,
     "metadata": {},
     "output_type": "execute_result"
    }
   ],
   "source": [
    "True"
   ]
  },
  {
   "cell_type": "code",
   "execution_count": 45,
   "id": "e7c0a7fb",
   "metadata": {},
   "outputs": [
    {
     "data": {
      "text/plain": [
       "False"
      ]
     },
     "execution_count": 45,
     "metadata": {},
     "output_type": "execute_result"
    }
   ],
   "source": [
    "False"
   ]
  },
  {
   "cell_type": "code",
   "execution_count": 47,
   "id": "c1004ca9",
   "metadata": {},
   "outputs": [],
   "source": [
    "#tuples  difference between tuples and list is tuple have paranthesis and list is share bracket..you cant change items already assigned to a tuple but that can be done with a list ."
   ]
  },
  {
   "cell_type": "code",
   "execution_count": 53,
   "id": "4324ff88",
   "metadata": {},
   "outputs": [],
   "source": [
    "t=(1,2,3)"
   ]
  },
  {
   "cell_type": "code",
   "execution_count": 55,
   "id": "34d96a8b",
   "metadata": {},
   "outputs": [
    {
     "data": {
      "text/plain": [
       "1"
      ]
     },
     "execution_count": 55,
     "metadata": {},
     "output_type": "execute_result"
    }
   ],
   "source": [
    "t[0]"
   ]
  },
  {
   "cell_type": "code",
   "execution_count": 52,
   "id": "0dc7f789",
   "metadata": {},
   "outputs": [
    {
     "data": {
      "text/plain": [
       "(1, 2)"
      ]
     },
     "execution_count": 52,
     "metadata": {},
     "output_type": "execute_result"
    }
   ],
   "source": [
    "t[:2]"
   ]
  },
  {
   "cell_type": "code",
   "execution_count": 56,
   "id": "bb0e1643",
   "metadata": {},
   "outputs": [],
   "source": [
    "#sets    its a collection of unique elements"
   ]
  },
  {
   "cell_type": "code",
   "execution_count": 57,
   "id": "28503435",
   "metadata": {},
   "outputs": [
    {
     "data": {
      "text/plain": [
       "{1, 2, 3, 4, 5, 6}"
      ]
     },
     "execution_count": 57,
     "metadata": {},
     "output_type": "execute_result"
    }
   ],
   "source": [
    "{1,1,2,3,4,5,6,3,3}"
   ]
  },
  {
   "cell_type": "code",
   "execution_count": 58,
   "id": "9f75691b",
   "metadata": {},
   "outputs": [
    {
     "data": {
      "text/plain": [
       "{1, 2, 3, 4, 5, 6}"
      ]
     },
     "execution_count": 58,
     "metadata": {},
     "output_type": "execute_result"
    }
   ],
   "source": [
    "set([1,1,2,3,4,5,6,3,3])"
   ]
  },
  {
   "cell_type": "code",
   "execution_count": 59,
   "id": "2905f7af",
   "metadata": {},
   "outputs": [],
   "source": [
    "s = {1,1,2,3,4,5,6,3,3}"
   ]
  },
  {
   "cell_type": "code",
   "execution_count": 60,
   "id": "1e1991e0",
   "metadata": {},
   "outputs": [],
   "source": [
    "s.add(8)"
   ]
  },
  {
   "cell_type": "code",
   "execution_count": 61,
   "id": "bbb91b94",
   "metadata": {},
   "outputs": [
    {
     "data": {
      "text/plain": [
       "{1, 2, 3, 4, 5, 6, 8}"
      ]
     },
     "execution_count": 61,
     "metadata": {},
     "output_type": "execute_result"
    }
   ],
   "source": [
    "s"
   ]
  },
  {
   "cell_type": "code",
   "execution_count": 62,
   "id": "c6fd54d5",
   "metadata": {},
   "outputs": [],
   "source": [
    "#comparison operatos "
   ]
  },
  {
   "cell_type": "code",
   "execution_count": 63,
   "id": "c5756c5b",
   "metadata": {},
   "outputs": [
    {
     "data": {
      "text/plain": [
       "False"
      ]
     },
     "execution_count": 63,
     "metadata": {},
     "output_type": "execute_result"
    }
   ],
   "source": [
    "1>2"
   ]
  },
  {
   "cell_type": "code",
   "execution_count": 64,
   "id": "ed3b77e0",
   "metadata": {},
   "outputs": [
    {
     "data": {
      "text/plain": [
       "False"
      ]
     },
     "execution_count": 64,
     "metadata": {},
     "output_type": "execute_result"
    }
   ],
   "source": [
    "2>3"
   ]
  },
  {
   "cell_type": "code",
   "execution_count": 65,
   "id": "4ea880d4",
   "metadata": {},
   "outputs": [
    {
     "data": {
      "text/plain": [
       "True"
      ]
     },
     "execution_count": 65,
     "metadata": {},
     "output_type": "execute_result"
    }
   ],
   "source": [
    "3<4"
   ]
  },
  {
   "cell_type": "code",
   "execution_count": 66,
   "id": "b25b8ff8",
   "metadata": {},
   "outputs": [
    {
     "data": {
      "text/plain": [
       "False"
      ]
     },
     "execution_count": 66,
     "metadata": {},
     "output_type": "execute_result"
    }
   ],
   "source": [
    "1==3"
   ]
  },
  {
   "cell_type": "code",
   "execution_count": 67,
   "id": "0acb9da9",
   "metadata": {},
   "outputs": [
    {
     "data": {
      "text/plain": [
       "True"
      ]
     },
     "execution_count": 67,
     "metadata": {},
     "output_type": "execute_result"
    }
   ],
   "source": [
    "1==1"
   ]
  },
  {
   "cell_type": "code",
   "execution_count": 68,
   "id": "4696fd6e",
   "metadata": {},
   "outputs": [
    {
     "data": {
      "text/plain": [
       "True"
      ]
     },
     "execution_count": 68,
     "metadata": {},
     "output_type": "execute_result"
    }
   ],
   "source": [
    "1!=3"
   ]
  },
  {
   "cell_type": "code",
   "execution_count": 69,
   "id": "8ec645d8",
   "metadata": {},
   "outputs": [
    {
     "data": {
      "text/plain": [
       "False"
      ]
     },
     "execution_count": 69,
     "metadata": {},
     "output_type": "execute_result"
    }
   ],
   "source": [
    "'hi' == 'de'"
   ]
  },
  {
   "cell_type": "code",
   "execution_count": 71,
   "id": "7f96d5bc",
   "metadata": {},
   "outputs": [
    {
     "data": {
      "text/plain": [
       "True"
      ]
     },
     "execution_count": 71,
     "metadata": {},
     "output_type": "execute_result"
    }
   ],
   "source": [
    "4>2 and 1==1"
   ]
  },
  {
   "cell_type": "code",
   "execution_count": 73,
   "id": "16472a14",
   "metadata": {},
   "outputs": [
    {
     "data": {
      "text/plain": [
       "True"
      ]
     },
     "execution_count": 73,
     "metadata": {},
     "output_type": "execute_result"
    }
   ],
   "source": [
    "1>2 or 1==1"
   ]
  },
  {
   "cell_type": "code",
   "execution_count": 74,
   "id": "574a52ee",
   "metadata": {},
   "outputs": [
    {
     "data": {
      "text/plain": [
       "True"
      ]
     },
     "execution_count": 74,
     "metadata": {},
     "output_type": "execute_result"
    }
   ],
   "source": [
    "True and True"
   ]
  },
  {
   "cell_type": "code",
   "execution_count": 75,
   "id": "f4451878",
   "metadata": {},
   "outputs": [
    {
     "data": {
      "text/plain": [
       "False"
      ]
     },
     "execution_count": 75,
     "metadata": {},
     "output_type": "execute_result"
    }
   ],
   "source": [
    "True and False"
   ]
  },
  {
   "cell_type": "code",
   "execution_count": 81,
   "id": "99ef9f8b",
   "metadata": {},
   "outputs": [
    {
     "data": {
      "text/plain": [
       "True"
      ]
     },
     "execution_count": 81,
     "metadata": {},
     "output_type": "execute_result"
    }
   ],
   "source": [
    "True or False"
   ]
  },
  {
   "cell_type": "code",
   "execution_count": 77,
   "id": "0d92c184",
   "metadata": {},
   "outputs": [],
   "source": [
    "#if  statements"
   ]
  },
  {
   "cell_type": "code",
   "execution_count": 86,
   "id": "9a6753f4",
   "metadata": {},
   "outputs": [
    {
     "name": "stdout",
     "output_type": "stream",
     "text": [
      "yep\n"
     ]
    }
   ],
   "source": [
    "if 1<3:\n",
    "     print('yep')\n"
   ]
  },
  {
   "cell_type": "code",
   "execution_count": 92,
   "id": "5a75d6b8",
   "metadata": {},
   "outputs": [
    {
     "name": "stdout",
     "output_type": "stream",
     "text": [
      "Oba\n"
     ]
    }
   ],
   "source": [
    "if True:\n",
    "    print(\"Oba\")"
   ]
  },
  {
   "cell_type": "code",
   "execution_count": null,
   "id": "fb094cb9",
   "metadata": {},
   "outputs": [],
   "source": [
    "#if else statement"
   ]
  },
  {
   "cell_type": "code",
   "execution_count": 93,
   "id": "d0a0bf25",
   "metadata": {},
   "outputs": [
    {
     "name": "stdout",
     "output_type": "stream",
     "text": [
      "first\n"
     ]
    }
   ],
   "source": [
    "if 1==1:\n",
    "    print('first')\n",
    "else:\n",
    "    print('second')"
   ]
  },
  {
   "cell_type": "code",
   "execution_count": 91,
   "id": "c0ac5688",
   "metadata": {},
   "outputs": [],
   "source": [
    "#if_elif_else statement"
   ]
  },
  {
   "cell_type": "code",
   "execution_count": 97,
   "id": "d54ef9c7",
   "metadata": {},
   "outputs": [
    {
     "name": "stdout",
     "output_type": "stream",
     "text": [
      "second\n"
     ]
    }
   ],
   "source": [
    "if 1==2:\n",
    "    print('first')\n",
    "elif 2==2:\n",
    "    print('second')\n",
    "elif 2==3:\n",
    "    print('fourth')\n",
    "else :\n",
    "    print('third')"
   ]
  },
  {
   "cell_type": "code",
   "execution_count": 100,
   "id": "1e97e179",
   "metadata": {},
   "outputs": [],
   "source": [
    "#for loops and while loops...for loops allows you interate for a sequence "
   ]
  },
  {
   "cell_type": "code",
   "execution_count": 101,
   "id": "a162b59a",
   "metadata": {},
   "outputs": [],
   "source": [
    "#for_loops"
   ]
  },
  {
   "cell_type": "code",
   "execution_count": 1,
   "id": "6f67dd00",
   "metadata": {},
   "outputs": [],
   "source": [
    "seq = [1,2,3,4,5]"
   ]
  },
  {
   "cell_type": "code",
   "execution_count": 2,
   "id": "327cefe3",
   "metadata": {},
   "outputs": [
    {
     "name": "stdout",
     "output_type": "stream",
     "text": [
      "1\n",
      "2\n",
      "3\n",
      "4\n",
      "5\n"
     ]
    }
   ],
   "source": [
    "for item in seq:\n",
    "    print(item)"
   ]
  },
  {
   "cell_type": "code",
   "execution_count": 3,
   "id": "af56475d",
   "metadata": {},
   "outputs": [
    {
     "name": "stdout",
     "output_type": "stream",
     "text": [
      "1\n",
      "2\n",
      "3\n",
      "4\n",
      "5\n"
     ]
    }
   ],
   "source": [
    "for jelly in seq:\n",
    "    print(jelly)"
   ]
  },
  {
   "cell_type": "code",
   "execution_count": 5,
   "id": "a26a27df",
   "metadata": {},
   "outputs": [
    {
     "name": "stdout",
     "output_type": "stream",
     "text": [
      "hello\n",
      "hello\n",
      "hello\n",
      "hello\n",
      "hello\n"
     ]
    }
   ],
   "source": [
    "for num in seq:\n",
    "    print(\"hello\")"
   ]
  },
  {
   "cell_type": "code",
   "execution_count": 3,
   "id": "3980ddca",
   "metadata": {},
   "outputs": [],
   "source": [
    "#while_loop"
   ]
  },
  {
   "cell_type": "code",
   "execution_count": 123,
   "id": "d9fb2ea9",
   "metadata": {},
   "outputs": [
    {
     "name": "stdout",
     "output_type": "stream",
     "text": [
      "i is:1\n",
      "i is:2\n",
      "i is:3\n",
      "i is:4\n"
     ]
    }
   ],
   "source": [
    "i=1\n",
    "while i<5:\n",
    "    print('i is:{}'.format(i))\n",
    "    i =i+1"
   ]
  },
  {
   "cell_type": "code",
   "execution_count": 7,
   "id": "c9c9eaee",
   "metadata": {},
   "outputs": [],
   "source": [
    "#Range"
   ]
  },
  {
   "cell_type": "code",
   "execution_count": 15,
   "id": "4b4786db",
   "metadata": {
    "scrolled": true
   },
   "outputs": [
    {
     "name": "stdout",
     "output_type": "stream",
     "text": [
      "0\n",
      "1\n",
      "2\n",
      "3\n",
      "4\n"
     ]
    }
   ],
   "source": [
    "for x in range(0,5):\n",
    "    print(x)"
   ]
  },
  {
   "cell_type": "code",
   "execution_count": 16,
   "id": "e024b2a7",
   "metadata": {},
   "outputs": [
    {
     "data": {
      "text/plain": [
       "range(0, 9)"
      ]
     },
     "execution_count": 16,
     "metadata": {},
     "output_type": "execute_result"
    }
   ],
   "source": [
    "range(0,9)"
   ]
  },
  {
   "cell_type": "code",
   "execution_count": 13,
   "id": "e490a4fd",
   "metadata": {},
   "outputs": [
    {
     "data": {
      "text/plain": [
       "[0, 1, 2, 3, 4, 5, 6, 7, 8, 9]"
      ]
     },
     "execution_count": 13,
     "metadata": {},
     "output_type": "execute_result"
    }
   ],
   "source": [
    "list(range(10))"
   ]
  },
  {
   "cell_type": "code",
   "execution_count": 14,
   "id": "5cfc66ac",
   "metadata": {},
   "outputs": [],
   "source": [
    "#List_comprehension  "
   ]
  },
  {
   "cell_type": "code",
   "execution_count": 20,
   "id": "b885924b",
   "metadata": {},
   "outputs": [],
   "source": [
    "x = [1,2,3,4,5]\n",
    "x[4] =30"
   ]
  },
  {
   "cell_type": "code",
   "execution_count": 21,
   "id": "11eb1cb1",
   "metadata": {},
   "outputs": [],
   "source": [
    "out= []\n",
    "for num in x:\n",
    "    out.append(num**2)"
   ]
  },
  {
   "cell_type": "code",
   "execution_count": 22,
   "id": "62659e47",
   "metadata": {},
   "outputs": [
    {
     "name": "stdout",
     "output_type": "stream",
     "text": [
      "[1, 4, 9, 16, 900]\n"
     ]
    }
   ],
   "source": [
    "print(out)"
   ]
  },
  {
   "cell_type": "code",
   "execution_count": 24,
   "id": "beb49e98",
   "metadata": {},
   "outputs": [],
   "source": [
    "out = [num**2 for num in x]"
   ]
  },
  {
   "cell_type": "code",
   "execution_count": 25,
   "id": "9c036995",
   "metadata": {},
   "outputs": [
    {
     "name": "stdout",
     "output_type": "stream",
     "text": [
      "[1, 4, 9, 16, 900]\n"
     ]
    }
   ],
   "source": [
    "print(out)"
   ]
  },
  {
   "cell_type": "code",
   "execution_count": 37,
   "id": "a14c41c0",
   "metadata": {},
   "outputs": [],
   "source": [
    "def my_func(name):\n",
    "    print('hello '+name)"
   ]
  },
  {
   "cell_type": "code",
   "execution_count": 39,
   "id": "756ba869",
   "metadata": {},
   "outputs": [
    {
     "name": "stdout",
     "output_type": "stream",
     "text": [
      "hello jose\n"
     ]
    }
   ],
   "source": [
    "my_func('jose')"
   ]
  },
  {
   "cell_type": "code",
   "execution_count": 3,
   "id": "a086ddd8",
   "metadata": {},
   "outputs": [
    {
     "data": {
      "text/plain": [
       "4"
      ]
     },
     "execution_count": 3,
     "metadata": {},
     "output_type": "execute_result"
    }
   ],
   "source": [
    "def square(num):\n",
    "    \"\"\"\n",
    "    THIS IS A DOCSTRING\n",
    "    CAN GO MULTIPLE LINES.\n",
    "    THIS FUNCTION SQUARES A NUMBER.\n",
    "    \"\"\"\n",
    "    return num**2\n",
    "output = square(2)\n",
    "output"
   ]
  },
  {
   "cell_type": "code",
   "execution_count": 4,
   "id": "440c8651",
   "metadata": {},
   "outputs": [
    {
     "data": {
      "text/plain": [
       "<function __main__.square(num)>"
      ]
     },
     "execution_count": 4,
     "metadata": {},
     "output_type": "execute_result"
    }
   ],
   "source": [
    "square"
   ]
  },
  {
   "cell_type": "code",
   "execution_count": 5,
   "id": "75461601",
   "metadata": {},
   "outputs": [
    {
     "data": {
      "text/plain": [
       "range"
      ]
     },
     "execution_count": 5,
     "metadata": {},
     "output_type": "execute_result"
    }
   ],
   "source": [
    "range"
   ]
  },
  {
   "cell_type": "code",
   "execution_count": 6,
   "id": "0c087d8c",
   "metadata": {},
   "outputs": [],
   "source": [
    "#math and filter functions"
   ]
  },
  {
   "cell_type": "code",
   "execution_count": 7,
   "id": "9207004f",
   "metadata": {},
   "outputs": [
    {
     "data": {
      "text/plain": [
       "4"
      ]
     },
     "execution_count": 7,
     "metadata": {},
     "output_type": "execute_result"
    }
   ],
   "source": [
    "def times2(var):\n",
    "    return var*2\n",
    "times2(2)"
   ]
  },
  {
   "cell_type": "code",
   "execution_count": 8,
   "id": "3eef2a63",
   "metadata": {},
   "outputs": [],
   "source": [
    "#map"
   ]
  },
  {
   "cell_type": "code",
   "execution_count": 9,
   "id": "d40949f4",
   "metadata": {},
   "outputs": [],
   "source": [
    "seq=[1,2,3,4,5]"
   ]
  },
  {
   "cell_type": "code",
   "execution_count": 11,
   "id": "32abb9fe",
   "metadata": {},
   "outputs": [
    {
     "data": {
      "text/plain": [
       "[2, 4, 6, 8, 10]"
      ]
     },
     "execution_count": 11,
     "metadata": {},
     "output_type": "execute_result"
    }
   ],
   "source": [
    "list(map(times2,seq))"
   ]
  },
  {
   "cell_type": "code",
   "execution_count": 12,
   "id": "fc7f8426",
   "metadata": {},
   "outputs": [],
   "source": [
    "#Lambda expression or annonymous function"
   ]
  },
  {
   "cell_type": "code",
   "execution_count": 13,
   "id": "f0f791c6",
   "metadata": {},
   "outputs": [
    {
     "data": {
      "text/plain": [
       "12"
      ]
     },
     "execution_count": 13,
     "metadata": {},
     "output_type": "execute_result"
    }
   ],
   "source": [
    "t = lambda var:var*2\n",
    "t(6)\n",
    "    "
   ]
  },
  {
   "cell_type": "code",
   "execution_count": 129,
   "id": "b1ca0cf0",
   "metadata": {},
   "outputs": [],
   "source": [
    "sew = [1,2,4,5,6]"
   ]
  },
  {
   "cell_type": "code",
   "execution_count": 130,
   "id": "746441e4",
   "metadata": {},
   "outputs": [
    {
     "data": {
      "text/plain": [
       "[3, 6, 12, 15, 18]"
      ]
     },
     "execution_count": 130,
     "metadata": {},
     "output_type": "execute_result"
    }
   ],
   "source": [
    "list(map(lambda num:num*3,sew))"
   ]
  },
  {
   "cell_type": "code",
   "execution_count": 131,
   "id": "734ff949",
   "metadata": {},
   "outputs": [],
   "source": [
    "#built in filter function"
   ]
  },
  {
   "cell_type": "code",
   "execution_count": 135,
   "id": "29364998",
   "metadata": {},
   "outputs": [
    {
     "data": {
      "text/plain": [
       "[2, 4, 6]"
      ]
     },
     "execution_count": 135,
     "metadata": {},
     "output_type": "execute_result"
    }
   ],
   "source": [
    "list(filter(lambda num: num%2 ==0, sew))"
   ]
  },
  {
   "cell_type": "code",
   "execution_count": 22,
   "id": "0734ff0d",
   "metadata": {},
   "outputs": [],
   "source": [
    "#methods"
   ]
  },
  {
   "cell_type": "code",
   "execution_count": 23,
   "id": "d95444f8",
   "metadata": {},
   "outputs": [],
   "source": [
    "s ='hello my name is Sam'"
   ]
  },
  {
   "cell_type": "code",
   "execution_count": 26,
   "id": "3944e397",
   "metadata": {},
   "outputs": [
    {
     "data": {
      "text/plain": [
       "'hello my name is sam'"
      ]
     },
     "execution_count": 26,
     "metadata": {},
     "output_type": "execute_result"
    }
   ],
   "source": [
    "s.lower()"
   ]
  },
  {
   "cell_type": "code",
   "execution_count": 27,
   "id": "de8b3815",
   "metadata": {},
   "outputs": [
    {
     "data": {
      "text/plain": [
       "'HELLO MY NAME IS SAM'"
      ]
     },
     "execution_count": 27,
     "metadata": {},
     "output_type": "execute_result"
    }
   ],
   "source": [
    "s.upper()"
   ]
  },
  {
   "cell_type": "code",
   "execution_count": 28,
   "id": "9cacc7d1",
   "metadata": {},
   "outputs": [
    {
     "data": {
      "text/plain": [
       "['hello', 'my', 'name', 'is', 'Sam']"
      ]
     },
     "execution_count": 28,
     "metadata": {},
     "output_type": "execute_result"
    }
   ],
   "source": [
    "s.split()"
   ]
  },
  {
   "cell_type": "code",
   "execution_count": 32,
   "id": "8a34c637",
   "metadata": {},
   "outputs": [],
   "source": [
    "tweet = 'Go sports! #sports'"
   ]
  },
  {
   "cell_type": "code",
   "execution_count": 33,
   "id": "5265ed4a",
   "metadata": {},
   "outputs": [
    {
     "data": {
      "text/plain": [
       "['Go', 'sports!', '#sports']"
      ]
     },
     "execution_count": 33,
     "metadata": {},
     "output_type": "execute_result"
    }
   ],
   "source": [
    "tweet.split()"
   ]
  },
  {
   "cell_type": "code",
   "execution_count": 31,
   "id": "e595fe74",
   "metadata": {},
   "outputs": [
    {
     "data": {
      "text/plain": [
       "['Go sports! ', 'sports']"
      ]
     },
     "execution_count": 31,
     "metadata": {},
     "output_type": "execute_result"
    }
   ],
   "source": [
    "tweet.split('#')"
   ]
  },
  {
   "cell_type": "code",
   "execution_count": 34,
   "id": "d2fe7aca",
   "metadata": {},
   "outputs": [
    {
     "data": {
      "text/plain": [
       "'sports'"
      ]
     },
     "execution_count": 34,
     "metadata": {},
     "output_type": "execute_result"
    }
   ],
   "source": [
    "tweet.split('#')[1]"
   ]
  },
  {
   "cell_type": "code",
   "execution_count": 36,
   "id": "6cbb9ca7",
   "metadata": {},
   "outputs": [],
   "source": [
    "d ={'k1':1,'k2':2}"
   ]
  },
  {
   "cell_type": "code",
   "execution_count": 37,
   "id": "2b778caa",
   "metadata": {},
   "outputs": [
    {
     "data": {
      "text/plain": [
       "1"
      ]
     },
     "execution_count": 37,
     "metadata": {},
     "output_type": "execute_result"
    }
   ],
   "source": [
    "d['k1']"
   ]
  },
  {
   "cell_type": "code",
   "execution_count": 38,
   "id": "d34e8366",
   "metadata": {},
   "outputs": [
    {
     "data": {
      "text/plain": [
       "{'k1': 1, 'k2': 2}"
      ]
     },
     "execution_count": 38,
     "metadata": {},
     "output_type": "execute_result"
    }
   ],
   "source": [
    "d"
   ]
  },
  {
   "cell_type": "code",
   "execution_count": 39,
   "id": "ef92dd93",
   "metadata": {},
   "outputs": [
    {
     "data": {
      "text/plain": [
       "dict_keys(['k1', 'k2'])"
      ]
     },
     "execution_count": 39,
     "metadata": {},
     "output_type": "execute_result"
    }
   ],
   "source": [
    "d.keys()"
   ]
  },
  {
   "cell_type": "code",
   "execution_count": 40,
   "id": "3fb53059",
   "metadata": {},
   "outputs": [
    {
     "data": {
      "text/plain": [
       "dict_items([('k1', 1), ('k2', 2)])"
      ]
     },
     "execution_count": 40,
     "metadata": {},
     "output_type": "execute_result"
    }
   ],
   "source": [
    "d.items()"
   ]
  },
  {
   "cell_type": "code",
   "execution_count": 41,
   "id": "37744efb",
   "metadata": {},
   "outputs": [
    {
     "data": {
      "text/plain": [
       "dict_values([1, 2])"
      ]
     },
     "execution_count": 41,
     "metadata": {},
     "output_type": "execute_result"
    }
   ],
   "source": [
    "d.values()"
   ]
  },
  {
   "cell_type": "code",
   "execution_count": 42,
   "id": "df9d01a9",
   "metadata": {},
   "outputs": [],
   "source": [
    "lst =[1,2,3]"
   ]
  },
  {
   "cell_type": "code",
   "execution_count": 43,
   "id": "f39cde40",
   "metadata": {},
   "outputs": [
    {
     "data": {
      "text/plain": [
       "3"
      ]
     },
     "execution_count": 43,
     "metadata": {},
     "output_type": "execute_result"
    }
   ],
   "source": [
    "lst.pop()"
   ]
  },
  {
   "cell_type": "code",
   "execution_count": 47,
   "id": "747a5615",
   "metadata": {},
   "outputs": [
    {
     "data": {
      "text/plain": [
       "[1, 2]"
      ]
     },
     "execution_count": 47,
     "metadata": {},
     "output_type": "execute_result"
    }
   ],
   "source": [
    "lst"
   ]
  },
  {
   "cell_type": "code",
   "execution_count": 54,
   "id": "3b02feb8",
   "metadata": {},
   "outputs": [],
   "source": [
    "lst =[1,2,3,4,5]"
   ]
  },
  {
   "cell_type": "code",
   "execution_count": 55,
   "id": "e0648933",
   "metadata": {},
   "outputs": [],
   "source": [
    "item = lst.pop()"
   ]
  },
  {
   "cell_type": "code",
   "execution_count": 56,
   "id": "c804bdc9",
   "metadata": {},
   "outputs": [
    {
     "data": {
      "text/plain": [
       "[1, 2, 3, 4]"
      ]
     },
     "execution_count": 56,
     "metadata": {},
     "output_type": "execute_result"
    }
   ],
   "source": [
    "lst"
   ]
  },
  {
   "cell_type": "code",
   "execution_count": 57,
   "id": "682dd804",
   "metadata": {},
   "outputs": [
    {
     "data": {
      "text/plain": [
       "5"
      ]
     },
     "execution_count": 57,
     "metadata": {},
     "output_type": "execute_result"
    }
   ],
   "source": [
    "item"
   ]
  },
  {
   "cell_type": "code",
   "execution_count": 61,
   "id": "4b2f1e7e",
   "metadata": {},
   "outputs": [],
   "source": [
    "first = lst.pop(0)"
   ]
  },
  {
   "cell_type": "code",
   "execution_count": 62,
   "id": "6099bd5c",
   "metadata": {},
   "outputs": [
    {
     "data": {
      "text/plain": [
       "2"
      ]
     },
     "execution_count": 62,
     "metadata": {},
     "output_type": "execute_result"
    }
   ],
   "source": [
    "first"
   ]
  },
  {
   "cell_type": "code",
   "execution_count": 63,
   "id": "582e27f1",
   "metadata": {},
   "outputs": [
    {
     "data": {
      "text/plain": [
       "[3, 4]"
      ]
     },
     "execution_count": 63,
     "metadata": {},
     "output_type": "execute_result"
    }
   ],
   "source": [
    "lst"
   ]
  },
  {
   "cell_type": "code",
   "execution_count": 64,
   "id": "8a4fcda2",
   "metadata": {},
   "outputs": [],
   "source": [
    "lst.append(88)"
   ]
  },
  {
   "cell_type": "code",
   "execution_count": 65,
   "id": "921d1156",
   "metadata": {},
   "outputs": [
    {
     "data": {
      "text/plain": [
       "[3, 4, 88]"
      ]
     },
     "execution_count": 65,
     "metadata": {},
     "output_type": "execute_result"
    }
   ],
   "source": [
    "lst"
   ]
  },
  {
   "cell_type": "code",
   "execution_count": 66,
   "id": "6c685b35",
   "metadata": {},
   "outputs": [],
   "source": [
    "# in operator"
   ]
  },
  {
   "cell_type": "code",
   "execution_count": 67,
   "id": "a5d79e45",
   "metadata": {},
   "outputs": [
    {
     "data": {
      "text/plain": [
       "False"
      ]
     },
     "execution_count": 67,
     "metadata": {},
     "output_type": "execute_result"
    }
   ],
   "source": [
    "'x' in [1,2,3]"
   ]
  },
  {
   "cell_type": "code",
   "execution_count": 69,
   "id": "3aa22b92",
   "metadata": {},
   "outputs": [
    {
     "data": {
      "text/plain": [
       "True"
      ]
     },
     "execution_count": 69,
     "metadata": {},
     "output_type": "execute_result"
    }
   ],
   "source": [
    "'x' in ['x','y','d','j']"
   ]
  },
  {
   "cell_type": "code",
   "execution_count": 70,
   "id": "a5dc42fe",
   "metadata": {},
   "outputs": [
    {
     "data": {
      "text/plain": [
       "True"
      ]
     },
     "execution_count": 70,
     "metadata": {},
     "output_type": "execute_result"
    }
   ],
   "source": [
    "1 in [1,3,4,1]"
   ]
  },
  {
   "cell_type": "code",
   "execution_count": null,
   "id": "4404c455",
   "metadata": {},
   "outputs": [],
   "source": [
    "#tuple unpacking "
   ]
  },
  {
   "cell_type": "code",
   "execution_count": 97,
   "id": "fe460e35",
   "metadata": {},
   "outputs": [],
   "source": [
    "x = [(1,2),(3,4),(5,6)]"
   ]
  },
  {
   "cell_type": "code",
   "execution_count": 100,
   "id": "e069a0eb",
   "metadata": {},
   "outputs": [
    {
     "data": {
      "text/plain": [
       "2"
      ]
     },
     "execution_count": 100,
     "metadata": {},
     "output_type": "execute_result"
    }
   ],
   "source": [
    "x[0][1]"
   ]
  },
  {
   "cell_type": "code",
   "execution_count": 101,
   "id": "19915b81",
   "metadata": {},
   "outputs": [
    {
     "data": {
      "text/plain": [
       "(1, 2)"
      ]
     },
     "execution_count": 101,
     "metadata": {},
     "output_type": "execute_result"
    }
   ],
   "source": [
    "x[0]"
   ]
  },
  {
   "cell_type": "code",
   "execution_count": 117,
   "id": "9e891494",
   "metadata": {},
   "outputs": [],
   "source": [
    "x = [(1,2),(3,4),(5,6)]"
   ]
  },
  {
   "cell_type": "code",
   "execution_count": 118,
   "id": "8c1df605",
   "metadata": {},
   "outputs": [
    {
     "name": "stdout",
     "output_type": "stream",
     "text": [
      "1\n",
      "2\n",
      "3\n",
      "4\n",
      "5\n",
      "6\n"
     ]
    }
   ],
   "source": [
    "for a,b in x:\n",
    "    print(a)\n",
    "    print(b)"
   ]
  },
  {
   "cell_type": "code",
   "execution_count": 119,
   "id": "2a634660",
   "metadata": {},
   "outputs": [
    {
     "name": "stdout",
     "output_type": "stream",
     "text": [
      "(1, 2)\n",
      "(3, 4)\n",
      "(5, 6)\n"
     ]
    }
   ],
   "source": [
    "for item in x:\n",
    "    print(item)"
   ]
  },
  {
   "cell_type": "code",
   "execution_count": 121,
   "id": "7e42d1a1",
   "metadata": {},
   "outputs": [
    {
     "name": "stdout",
     "output_type": "stream",
     "text": [
      "2\n",
      "1\n",
      "4\n",
      "3\n",
      "6\n",
      "5\n"
     ]
    }
   ],
   "source": [
    "for item in x:\n",
    "    print(item[1])\n",
    "    print(item[0])"
   ]
  },
  {
   "cell_type": "code",
   "execution_count": null,
   "id": "fbbef787",
   "metadata": {},
   "outputs": [],
   "source": []
  }
 ],
 "metadata": {
  "kernelspec": {
   "display_name": "Python 3 (ipykernel)",
   "language": "python",
   "name": "python3"
  },
  "language_info": {
   "codemirror_mode": {
    "name": "ipython",
    "version": 3
   },
   "file_extension": ".py",
   "mimetype": "text/x-python",
   "name": "python",
   "nbconvert_exporter": "python",
   "pygments_lexer": "ipython3",
   "version": "3.9.12"
  }
 },
 "nbformat": 4,
 "nbformat_minor": 5
}
